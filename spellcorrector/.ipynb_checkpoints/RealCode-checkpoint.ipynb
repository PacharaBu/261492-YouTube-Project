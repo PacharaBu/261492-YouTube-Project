{
 "cells": [
  {
   "cell_type": "code",
   "execution_count": 1,
   "metadata": {},
   "outputs": [],
   "source": [
    "# Call Norvig Spelling Corrector \n",
    "\n",
    "import re\n",
    "from collections import Counter\n",
    "\n",
    "def words(text): return re.findall(r'\\w+', text.lower())\n",
    "\n",
    "WORDS = Counter(words(open('Dig.txt').read()))\n",
    "'''print (len(WORDS))\n",
    "print (sum(WORDS.values()))\n",
    "print (WORDS.most_common()[0:20])'''\n",
    "\n",
    "def P(word, N=sum(WORDS.values())): \n",
    "    \"Probability of `word`.\"\n",
    "    return WORDS[word] / N\n",
    "\n",
    "def correction(word): \n",
    "    \"Most probable spelling correction for word.\"\n",
    "    return max(candidates(word), key=P)\n",
    "\n",
    "\"\"\"def corrections(word): \n",
    "    \"Most probable spelling correction for word.\"\n",
    "    condidate_words = candidates(word)\n",
    "    for cword in condidate_words:\n",
    "        print(word, P(cword))\"\"\"\n",
    "\n",
    "\n",
    "def candidates(word): \n",
    "    \"Generate possible spelling corrections for word.\"\n",
    "    return (known([word]) or known(edits1(word)) or known(edits2(word)) or [word])\n",
    "\n",
    "def known(words): \n",
    "    \"The subset of `words` that appear in the dictionary of WORDS.\"\n",
    "    return set(w for w in words if w in WORDS)\n",
    "\n",
    "def edits1(word):\n",
    "    \"All edits that are one edit away from `word`.\"\n",
    "    letters    = 'abcdefghijklmnopqrstuvwxyz'\n",
    "    splits     = [(word[:i], word[i:])    for i in range(len(word) + 1)]\n",
    "    deletes    = [L + R[1:]               for L, R in splits if R]\n",
    "    transposes = [L + R[1] + R[0] + R[2:] for L, R in splits if len(R)>1]\n",
    "    replaces   = [L + c + R[1:]           for L, R in splits if R for c in letters]\n",
    "    inserts    = [L + c + R               for L, R in splits for c in letters]\n",
    "    return set(deletes + transposes + replaces + inserts)\n",
    "\n",
    "def edits2(word): \n",
    "    \"All edits that are two edits away from `word`.\"\n",
    "    return (e2 for e1 in edits1(word) for e2 in edits1(e1))"
   ]
  },
  {
   "cell_type": "code",
   "execution_count": 2,
   "metadata": {},
   "outputs": [],
   "source": [
    "#make detect words file to reference list\n",
    "#with open('badwords - key.txt') as f:\n",
    "with open('bdk.txt') as f:\n",
    "    #mylist = list(f)\n",
    "    reflist = [line.rstrip('\\n') for line in f]\n",
    "    #print(reflist)"
   ]
  },
  {
   "cell_type": "code",
   "execution_count": 45,
   "metadata": {
    "scrolled": true
   },
   "outputs": [
    {
     "name": "stdout",
     "output_type": "stream",
     "text": [
      "[{\"user\":\"Pachara Bunmalert\",\"userID\":\"UCrCMu-1L2H1-QBug-N9ATsg\",\"message\":\"hi\",\"attempt\":\"0\"},{\"user\":\"Steve Mask\",\"userID\":\"UC75OFq6uyMUV2xSnq-BWYCw\",\"message\":\"fcuk you\",\"attempt\":\"0\"},{\"user\":\"Steve Mask\",\"userID\":\"UC75OFq6uyMUV2xSnq-BWYCw\",\"message\":\"f*cking arsehole\",\"attempt\":\"0\"},{\"user\":\"Pachara Bunmalert\",\"userID\":\"UCrCMu-1L2H1-QBug-N9ATsg\",\"message\":\"...\",\"attempt\":\"0\"}]\n"
     ]
    }
   ],
   "source": [
    "#recieve input from YouTube API\n",
    "import json\n",
    "with open(r'..\\YouTubeAPI\\all_message.json', encoding = \"utf8\") as f:\n",
    "    s = f.read()\n",
    "    print(s)\n",
    "    d = json.loads(s)\n",
    "#print(type(d[0]['attempt']))\n",
    "#for i in range(len(d)):\n",
    "    #print(d[i][\"user\"])\n",
    "#for user in d:\n",
    "    #print(user['id'],user['message'])\n"
   ]
  },
  {
   "cell_type": "code",
   "execution_count": 52,
   "metadata": {},
   "outputs": [
    {
     "name": "stdout",
     "output_type": "stream",
     "text": [
      "i\n",
      "0\n",
      "fuck\n",
      "1\n",
      "you\n",
      "1\n",
      "fucking\n",
      "1\n",
      "asshole\n",
      "1\n",
      "...\n",
      "0\n"
     ]
    }
   ],
   "source": [
    "#make new JSON file (edit messagedetails)\n",
    "with open('usermessage.json', mode = 'w', encoding = \"utf8\") as f:\n",
    "    f.write(json.dumps(d))\n",
    "    j = 0 \n",
    "    for i in range(len(d)):\n",
    "#clean number to text\n",
    "        d[i]['message'] = d[i]['message'].replace(\"0\", \"o\")\n",
    "        d[i]['message'] = d[i]['message'].replace(\"1\", \"i\")\n",
    "        d[i]['message'] = d[i]['message'].replace(\"3\", \"e\")\n",
    "        d[i]['message'] = d[i]['message'].replace(\"4\", \"a\")\n",
    "        d[i]['message'] = d[i]['message'].replace(\"5\", \"s\")\n",
    "        d[i]['message'] = d[i]['message'].replace(\"7\", \"t\")\n",
    "        d[i]['message'] = d[i]['message'].replace(\"+\", \"t\")\n",
    "        d[i]['message'] = d[i]['message'].replace(\"!\", \"t\")\n",
    "        d[i]['message'] = d[i]['message'].replace(\"_\", \" \")\n",
    "        d[i]['message'] = d[i]['message'].replace(\"-\", \" \")\n",
    "        d[i]['message'] = d[i]['message'].replace(\"'\", \" \")\n",
    "\n",
    "        #print(d[i]['message'])\n",
    "        \n",
    "#tokenize text \n",
    "        list_sentence = d[i]['message'].split(\" \")\n",
    "        for i in list_sentence :\n",
    "            i = correction(i)\n",
    "            print(correction(i))\n",
    "            if i in reflist:\n",
    "                d[j]['attempt'] = 1\n",
    "            print(d[j]['attempt'])\n",
    "        j = j + 1\n",
    "        #for i in range(len(d)):\n",
    "            #print(d[i]['attempt'])"
   ]
  },
  {
   "cell_type": "code",
   "execution_count": 53,
   "metadata": {},
   "outputs": [
    {
     "name": "stdout",
     "output_type": "stream",
     "text": [
      "[{\"user\": \"Pachara Bunmalert\", \"userID\": \"UCrCMu-1L2H1-QBug-N9ATsg\", \"message\": \"hi\", \"attempt\": \"0\"}, {\"user\": \"Steve Mask\", \"userID\": \"UC75OFq6uyMUV2xSnq-BWYCw\", \"message\": \"fcuk you\", \"attempt\": 1}, {\"user\": \"Steve Mask\", \"userID\": \"UC75OFq6uyMUV2xSnq-BWYCw\", \"message\": \"f*cking arsehole\", \"attempt\": 1}, {\"user\": \"Pachara Bunmalert\", \"userID\": \"UCrCMu-1L2H1-QBug-N9ATsg\", \"message\": \"...\", \"attempt\": \"0\"}]\n"
     ]
    }
   ],
   "source": [
    "with open('usermessage.json', encoding = \"utf8\") as g:\n",
    "    a = g.read()\n",
    "print(a)"
   ]
  },
  {
   "cell_type": "code",
   "execution_count": null,
   "metadata": {},
   "outputs": [],
   "source": []
  }
 ],
 "metadata": {
  "kernelspec": {
   "display_name": "Python 3",
   "language": "python",
   "name": "python3"
  },
  "language_info": {
   "codemirror_mode": {
    "name": "ipython",
    "version": 3
   },
   "file_extension": ".py",
   "mimetype": "text/x-python",
   "name": "python",
   "nbconvert_exporter": "python",
   "pygments_lexer": "ipython3",
   "version": "3.7.3"
  }
 },
 "nbformat": 4,
 "nbformat_minor": 2
}
